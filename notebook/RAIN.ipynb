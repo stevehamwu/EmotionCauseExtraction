{
 "cells": [
  {
   "cell_type": "code",
   "execution_count": 1,
   "metadata": {
    "ExecuteTime": {
     "end_time": "2019-03-19T15:49:26.660373Z",
     "start_time": "2019-03-19T15:49:26.656429Z"
    },
    "collapsed": false
   },
   "outputs": [],
   "source": [
    "## Rule-Attention Integrated Network"
   ]
  },
  {
   "cell_type": "code",
   "execution_count": 2,
   "metadata": {
    "ExecuteTime": {
     "end_time": "2019-03-19T15:49:45.982161Z",
     "start_time": "2019-03-19T15:49:45.710150Z"
    },
    "collapsed": true
   },
   "outputs": [],
   "source": [
    "import sys\n",
    "sys.path.append('../')\n",
    "from rules.metric import *"
   ]
  },
  {
   "cell_type": "code",
   "execution_count": 1,
   "metadata": {
    "ExecuteTime": {
     "end_time": "2019-03-19T16:43:35.583520Z",
     "start_time": "2019-03-19T16:43:35.095187Z"
    },
    "collapsed": true
   },
   "outputs": [],
   "source": [
    "import os\n",
    "os.environ[\"CUDA_VISIBLE_DEVICES\"] = \"3\"\n",
    "from elmoformanylangs import Embedder, CNEmbedder"
   ]
  },
  {
   "cell_type": "code",
   "execution_count": 2,
   "metadata": {
    "ExecuteTime": {
     "end_time": "2019-03-19T16:44:21.315266Z",
     "start_time": "2019-03-19T16:43:36.269730Z"
    },
    "collapsed": false,
    "scrolled": true
   },
   "outputs": [
    {
     "name": "stderr",
     "output_type": "stream",
     "text": [
      "2019-03-19 16:43:36,318 INFO: char embedding size: 6169\n",
      "2019-03-19 16:43:36,666 INFO: word embedding size: 71222\n",
      "2019-03-19 16:44:03,982 INFO: Model(\n",
      "  (token_embedder): ConvTokenEmbedder(\n",
      "    (word_emb_layer): EmbeddingLayer(\n",
      "      (embedding): Embedding(71222, 100, padding_idx=3)\n",
      "    )\n",
      "    (char_emb_layer): EmbeddingLayer(\n",
      "      (embedding): Embedding(6169, 50, padding_idx=6166)\n",
      "    )\n",
      "    (convolutions): ModuleList(\n",
      "      (0): Conv1d(50, 32, kernel_size=(1,), stride=(1,))\n",
      "      (1): Conv1d(50, 32, kernel_size=(2,), stride=(1,))\n",
      "      (2): Conv1d(50, 64, kernel_size=(3,), stride=(1,))\n",
      "      (3): Conv1d(50, 128, kernel_size=(4,), stride=(1,))\n",
      "      (4): Conv1d(50, 256, kernel_size=(5,), stride=(1,))\n",
      "      (5): Conv1d(50, 512, kernel_size=(6,), stride=(1,))\n",
      "      (6): Conv1d(50, 1024, kernel_size=(7,), stride=(1,))\n",
      "    )\n",
      "    (highways): Highway(\n",
      "      (_layers): ModuleList(\n",
      "        (0): Linear(in_features=2048, out_features=4096, bias=True)\n",
      "        (1): Linear(in_features=2048, out_features=4096, bias=True)\n",
      "      )\n",
      "    )\n",
      "    (projection): Linear(in_features=2148, out_features=512, bias=True)\n",
      "  )\n",
      "  (encoder): ElmobiLm(\n",
      "    (forward_layer_0): LstmCellWithProjection(\n",
      "      (input_linearity): Linear(in_features=512, out_features=16384, bias=False)\n",
      "      (state_linearity): Linear(in_features=512, out_features=16384, bias=True)\n",
      "      (state_projection): Linear(in_features=4096, out_features=512, bias=False)\n",
      "    )\n",
      "    (backward_layer_0): LstmCellWithProjection(\n",
      "      (input_linearity): Linear(in_features=512, out_features=16384, bias=False)\n",
      "      (state_linearity): Linear(in_features=512, out_features=16384, bias=True)\n",
      "      (state_projection): Linear(in_features=4096, out_features=512, bias=False)\n",
      "    )\n",
      "    (forward_layer_1): LstmCellWithProjection(\n",
      "      (input_linearity): Linear(in_features=512, out_features=16384, bias=False)\n",
      "      (state_linearity): Linear(in_features=512, out_features=16384, bias=True)\n",
      "      (state_projection): Linear(in_features=4096, out_features=512, bias=False)\n",
      "    )\n",
      "    (backward_layer_1): LstmCellWithProjection(\n",
      "      (input_linearity): Linear(in_features=512, out_features=16384, bias=False)\n",
      "      (state_linearity): Linear(in_features=512, out_features=16384, bias=True)\n",
      "      (state_projection): Linear(in_features=4096, out_features=512, bias=False)\n",
      "    )\n",
      "  )\n",
      ")\n",
      "2019-03-19 16:44:04,206 INFO: char embedding size: 6169\n",
      "2019-03-19 16:44:04,546 INFO: word embedding size: 71222\n",
      "2019-03-19 16:44:20,974 INFO: Model(\n",
      "  (token_embedder): ConvTokenEmbedder(\n",
      "    (word_emb_layer): EmbeddingLayer(\n",
      "      (embedding): Embedding(71222, 100, padding_idx=3)\n",
      "    )\n",
      "    (char_emb_layer): EmbeddingLayer(\n",
      "      (embedding): Embedding(6169, 50, padding_idx=6166)\n",
      "    )\n",
      "    (convolutions): ModuleList(\n",
      "      (0): Conv1d(50, 32, kernel_size=(1,), stride=(1,))\n",
      "      (1): Conv1d(50, 32, kernel_size=(2,), stride=(1,))\n",
      "      (2): Conv1d(50, 64, kernel_size=(3,), stride=(1,))\n",
      "      (3): Conv1d(50, 128, kernel_size=(4,), stride=(1,))\n",
      "      (4): Conv1d(50, 256, kernel_size=(5,), stride=(1,))\n",
      "      (5): Conv1d(50, 512, kernel_size=(6,), stride=(1,))\n",
      "      (6): Conv1d(50, 1024, kernel_size=(7,), stride=(1,))\n",
      "    )\n",
      "    (highways): Highway(\n",
      "      (_layers): ModuleList(\n",
      "        (0): Linear(in_features=2048, out_features=4096, bias=True)\n",
      "        (1): Linear(in_features=2048, out_features=4096, bias=True)\n",
      "      )\n",
      "    )\n",
      "    (projection): Linear(in_features=2148, out_features=512, bias=True)\n",
      "  )\n",
      "  (encoder): ElmobiLm(\n",
      "    (forward_layer_0): LstmCellWithProjection(\n",
      "      (input_linearity): Linear(in_features=512, out_features=16384, bias=False)\n",
      "      (state_linearity): Linear(in_features=512, out_features=16384, bias=True)\n",
      "      (state_projection): Linear(in_features=4096, out_features=512, bias=False)\n",
      "    )\n",
      "    (backward_layer_0): LstmCellWithProjection(\n",
      "      (input_linearity): Linear(in_features=512, out_features=16384, bias=False)\n",
      "      (state_linearity): Linear(in_features=512, out_features=16384, bias=True)\n",
      "      (state_projection): Linear(in_features=4096, out_features=512, bias=False)\n",
      "    )\n",
      "    (forward_layer_1): LstmCellWithProjection(\n",
      "      (input_linearity): Linear(in_features=512, out_features=16384, bias=False)\n",
      "      (state_linearity): Linear(in_features=512, out_features=16384, bias=True)\n",
      "      (state_projection): Linear(in_features=4096, out_features=512, bias=False)\n",
      "    )\n",
      "    (backward_layer_1): LstmCellWithProjection(\n",
      "      (input_linearity): Linear(in_features=512, out_features=16384, bias=False)\n",
      "      (state_linearity): Linear(in_features=512, out_features=16384, bias=True)\n",
      "      (state_projection): Linear(in_features=4096, out_features=512, bias=False)\n",
      "    )\n",
      "  )\n",
      ")\n"
     ]
    }
   ],
   "source": [
    "e = Embedder('/data/wujipeng/embedding/ELMo/zhs.model/')\n",
    "c = CNEmbedder('/data/wujipeng/embedding/ELMo/zhs.model/')"
   ]
  },
  {
   "cell_type": "code",
   "execution_count": 111,
   "metadata": {
    "ExecuteTime": {
     "end_time": "2019-03-19T16:42:16.332019Z",
     "start_time": "2019-03-19T16:42:16.327890Z"
    },
    "collapsed": true
   },
   "outputs": [],
   "source": [
    "sents = [['我', '爱', '北京', '天安门', '<pad>', '<pad>', '<pad>'], ['天安门', '前', '坦克', '冲']]"
   ]
  },
  {
   "cell_type": "code",
   "execution_count": 115,
   "metadata": {
    "ExecuteTime": {
     "end_time": "2019-03-19T16:42:24.307104Z",
     "start_time": "2019-03-19T16:42:24.226322Z"
    },
    "collapsed": false
   },
   "outputs": [
    {
     "name": "stderr",
     "output_type": "stream",
     "text": [
      "2019-03-19 16:42:24,230 INFO: 1 batches, avg len: 7.5\n"
     ]
    },
    {
     "data": {
      "text/plain": [
       "[array([[ 0.13360134,  0.05176929,  0.5049831 , ...,  0.13314141,\n",
       "          0.49482244,  0.07487966],\n",
       "        [ 0.3522513 ,  0.3439607 ,  0.5728881 , ...,  0.01634456,\n",
       "         -0.20670648,  0.20261244],\n",
       "        [-0.0674175 ,  0.37687594,  0.43225384, ...,  0.05993162,\n",
       "          0.11410472, -0.69082123],\n",
       "        ...,\n",
       "        [-0.12381966,  0.866776  ,  0.2685415 , ..., -0.09284096,\n",
       "         -0.5579087 , -0.7215217 ],\n",
       "        [-0.12381966,  0.866776  ,  0.2685415 , ..., -0.09284096,\n",
       "         -0.5579087 , -0.7215217 ],\n",
       "        [-0.12381966,  0.866776  ,  0.2685415 , ..., -0.09284096,\n",
       "         -0.5579087 , -0.7215217 ]], dtype=float32),\n",
       " array([[ 0.24336524,  0.5533514 ,  0.4132815 , ...,  0.06044367,\n",
       "          0.18921544, -1.0009525 ],\n",
       "        [ 0.0777937 , -0.16826117,  0.27988923, ...,  0.03884932,\n",
       "          0.5104188 , -0.03183861],\n",
       "        [ 0.16183703, -0.71312773,  0.00263081, ..., -0.46667844,\n",
       "          0.9072407 , -0.33262712],\n",
       "        [ 0.5971473 ,  0.7700659 ,  0.4508716 , ..., -0.6375458 ,\n",
       "         -0.11428799,  0.20963196]], dtype=float32)]"
      ]
     },
     "execution_count": 115,
     "metadata": {},
     "output_type": "execute_result"
    }
   ],
   "source": [
    "embed = e.sents2elmo(sents, 0)\n",
    "embed"
   ]
  },
  {
   "cell_type": "code",
   "execution_count": 114,
   "metadata": {
    "ExecuteTime": {
     "end_time": "2019-03-19T16:42:22.555406Z",
     "start_time": "2019-03-19T16:42:21.460962Z"
    },
    "collapsed": false
   },
   "outputs": [
    {
     "data": {
      "text/plain": [
       "tensor([[[ 0.1336,  0.0518,  0.5050,  ...,  0.1331,  0.4948,  0.0749],\n",
       "         [ 0.3523,  0.3440,  0.5729,  ...,  0.0163, -0.2067,  0.2026],\n",
       "         [-0.0674,  0.3769,  0.4323,  ...,  0.0599,  0.1141, -0.6908],\n",
       "         ...,\n",
       "         [-0.1238,  0.8668,  0.2685,  ..., -0.0928, -0.5579, -0.7215],\n",
       "         [-0.1238,  0.8668,  0.2685,  ..., -0.0928, -0.5579, -0.7215],\n",
       "         [-0.1238,  0.8668,  0.2685,  ..., -0.0928, -0.5579, -0.7215]],\n",
       "\n",
       "        [[ 0.2434,  0.5534,  0.4133,  ...,  0.0604,  0.1892, -1.0010],\n",
       "         [ 0.0778, -0.1683,  0.2799,  ...,  0.0388,  0.5104, -0.0318],\n",
       "         [ 0.1618, -0.7131,  0.0026,  ..., -0.4667,  0.9072, -0.3326],\n",
       "         ...,\n",
       "         [-0.4240, -0.8640, -0.5982,  ..., -0.3724,  1.3855, -1.1962],\n",
       "         [-0.1227,  0.2681,  0.2483,  ..., -0.0263, -0.0282, -0.1805],\n",
       "         [-0.1227,  0.2681,  0.2483,  ..., -0.0263, -0.0282, -0.1805]]])"
      ]
     },
     "execution_count": 114,
     "metadata": {},
     "output_type": "execute_result"
    }
   ],
   "source": [
    "cmbed = c.sents2elmo(sents, 0)\n",
    "cmbed"
   ]
  },
  {
   "cell_type": "code",
   "execution_count": 93,
   "metadata": {
    "ExecuteTime": {
     "end_time": "2019-03-19T16:41:12.658661Z",
     "start_time": "2019-03-19T16:41:12.653586Z"
    },
    "collapsed": false
   },
   "outputs": [
    {
     "data": {
      "text/plain": [
       "((6, 1024), (5, 1024))"
      ]
     },
     "execution_count": 93,
     "metadata": {},
     "output_type": "execute_result"
    }
   ],
   "source": [
    "embed[0].shape, embed[1].shape"
   ]
  },
  {
   "cell_type": "code",
   "execution_count": 92,
   "metadata": {
    "ExecuteTime": {
     "end_time": "2019-03-19T16:41:11.379515Z",
     "start_time": "2019-03-19T16:41:11.374632Z"
    },
    "collapsed": false
   },
   "outputs": [
    {
     "data": {
      "text/plain": [
       "torch.Size([2, 6, 1024])"
      ]
     },
     "execution_count": 92,
     "metadata": {},
     "output_type": "execute_result"
    }
   ],
   "source": [
    "cmbed.size()"
   ]
  },
  {
   "cell_type": "code",
   "execution_count": 86,
   "metadata": {
    "ExecuteTime": {
     "end_time": "2019-03-19T16:40:18.559660Z",
     "start_time": "2019-03-19T16:40:17.437494Z"
    },
    "collapsed": false,
    "scrolled": true
   },
   "outputs": [
    {
     "data": {
      "text/plain": [
       "tensor([[[[ 1.3360e-01,  5.1769e-02,  5.0498e-01,  ...,  1.3314e-01,\n",
       "            4.9482e-01,  7.4880e-02],\n",
       "          [ 3.5225e-01,  3.4396e-01,  5.7289e-01,  ...,  1.6345e-02,\n",
       "           -2.0671e-01,  2.0261e-01],\n",
       "          [-6.7418e-02,  3.7688e-01,  4.3225e-01,  ...,  5.9932e-02,\n",
       "            1.1410e-01, -6.9082e-01],\n",
       "          [ 2.4337e-01,  5.5335e-01,  4.1328e-01,  ...,  6.0444e-02,\n",
       "            1.8922e-01, -1.0010e+00],\n",
       "          [-1.2382e-01,  8.6678e-01,  2.6854e-01,  ..., -9.2841e-02,\n",
       "           -5.5791e-01, -7.2152e-01],\n",
       "          [-1.2382e-01,  8.6678e-01,  2.6854e-01,  ..., -9.2841e-02,\n",
       "           -5.5791e-01, -7.2152e-01]],\n",
       "\n",
       "         [[ 2.4337e-01,  5.5335e-01,  4.1328e-01,  ...,  6.0444e-02,\n",
       "            1.8922e-01, -1.0010e+00],\n",
       "          [ 7.7794e-02, -1.6826e-01,  2.7989e-01,  ...,  3.8849e-02,\n",
       "            5.1042e-01, -3.1839e-02],\n",
       "          [ 1.6184e-01, -7.1313e-01,  2.6308e-03,  ..., -4.6668e-01,\n",
       "            9.0724e-01, -3.3263e-01],\n",
       "          [ 5.9715e-01,  7.7007e-01,  4.5087e-01,  ..., -6.3755e-01,\n",
       "           -1.1429e-01,  2.0963e-01],\n",
       "          [-1.2382e-01,  8.6678e-01,  2.6854e-01,  ..., -9.2841e-02,\n",
       "           -5.5791e-01, -7.2152e-01],\n",
       "          [-4.2397e-01, -8.6401e-01, -5.9823e-01,  ..., -3.7240e-01,\n",
       "            1.3855e+00, -1.1962e+00]]],\n",
       "\n",
       "\n",
       "        [[[-4.1114e-01,  2.8909e-01,  1.1708e-01,  ..., -1.1598e-02,\n",
       "           -9.1753e-02, -5.2276e-01],\n",
       "          [-8.3681e-02,  1.0801e+00,  7.8225e-01,  ..., -1.8481e-01,\n",
       "           -1.0868e-01, -4.7434e-01],\n",
       "          [ 5.6769e-01, -1.0014e-01,  6.7912e-02,  ...,  5.4926e-02,\n",
       "            1.0252e-01, -4.5442e-02],\n",
       "          [ 1.5758e-01,  1.6937e-02,  7.5897e-01,  ...,  2.0549e-01,\n",
       "           -2.0395e-01, -2.6022e-01],\n",
       "          [-1.4752e-01,  3.1219e-01,  6.0335e-01,  ...,  3.2834e-01,\n",
       "           -4.1647e-01,  8.7271e-01],\n",
       "          [-5.2304e-01,  1.2261e-01,  7.6912e-01,  ...,  2.8062e-01,\n",
       "           -2.9025e-01,  5.1198e-01]],\n",
       "\n",
       "         [[-4.7912e-01, -5.2795e-01,  2.4077e-01,  ..., -3.7941e-01,\n",
       "            1.2707e-01, -5.6656e-02],\n",
       "          [ 3.8631e-01, -1.3585e-01, -1.5165e-01,  ..., -2.0971e-01,\n",
       "            2.2126e-01,  1.7746e-01],\n",
       "          [-2.9112e-01,  1.3513e+00, -5.0530e-01,  ...,  3.0705e-01,\n",
       "           -3.4903e-01,  1.2144e+00],\n",
       "          [ 7.2700e-01,  9.8376e-01,  9.9886e-02,  ...,  1.3691e-01,\n",
       "            7.8650e-01,  8.6845e-01],\n",
       "          [-2.2847e-01,  2.5998e-01,  6.9496e-01,  ...,  2.9458e-01,\n",
       "           -3.0394e-01,  5.1429e-01],\n",
       "          [-1.4369e+00,  7.8079e-02, -2.2592e-01,  ...,  2.4702e-01,\n",
       "           -1.7096e-01,  7.4093e-02]]],\n",
       "\n",
       "\n",
       "        [[[-5.5510e-01,  9.8824e-02,  4.2909e-02,  ...,  8.4040e-02,\n",
       "           -6.3554e-01, -8.1582e-01],\n",
       "          [-3.5530e-02,  6.1273e-01,  7.8205e-01,  ..., -5.2722e-02,\n",
       "           -9.0272e-01, -7.6952e-01],\n",
       "          [ 1.2675e+00, -7.0415e-01, -5.3203e-01,  ...,  2.3636e-01,\n",
       "           -6.2691e-01,  1.2638e-01],\n",
       "          [ 8.4186e-01, -4.8469e-01,  4.1463e-01,  ...,  8.3056e-01,\n",
       "           -1.0776e+00, -3.8524e-01],\n",
       "          [ 1.2312e-01,  1.3830e-01,  1.1011e+00,  ...,  5.6956e-01,\n",
       "           -1.2232e+00,  5.9174e-01],\n",
       "          [-1.2971e+00, -5.7588e-01,  9.8527e-01,  ...,  2.6206e-01,\n",
       "           -8.4910e-01,  3.4327e-01]],\n",
       "\n",
       "         [[-1.4983e-01, -1.0961e+00, -2.5784e-01,  ..., -3.8733e-01,\n",
       "           -8.8188e-01, -2.6579e-01],\n",
       "          [ 1.2784e+00, -3.6803e-01, -1.2021e+00,  ..., -2.1884e-01,\n",
       "           -7.5392e-02, -4.7580e-02],\n",
       "          [ 3.2748e-01,  1.2679e+00, -1.0582e+00,  ...,  5.8577e-01,\n",
       "           -8.2751e-01,  1.0849e+00],\n",
       "          [ 8.9245e-01,  2.9652e-01,  1.9045e-01,  ..., -1.0616e-03,\n",
       "            1.9704e-01,  5.3808e-01],\n",
       "          [-1.2535e-01, -2.7272e-01,  6.1461e-01,  ...,  6.8866e-01,\n",
       "           -9.4618e-01,  2.5608e-01],\n",
       "          [-1.6278e+00, -1.9216e-01,  7.7887e-02,  ...,  4.0058e-01,\n",
       "           -4.3017e-01,  2.5010e-01]]]])"
      ]
     },
     "execution_count": 86,
     "metadata": {},
     "output_type": "execute_result"
    }
   ],
   "source": [
    "c.sents2elmo(sents, -2).transpose(0, 1)"
   ]
  },
  {
   "cell_type": "code",
   "execution_count": null,
   "metadata": {
    "collapsed": true
   },
   "outputs": [],
   "source": []
  }
 ],
 "metadata": {
  "kernelspec": {
   "display_name": "Python [conda env:anaconda3]",
   "language": "python",
   "name": "conda-env-anaconda3-py"
  },
  "language_info": {
   "codemirror_mode": {
    "name": "ipython",
    "version": 3
   },
   "file_extension": ".py",
   "mimetype": "text/x-python",
   "name": "python",
   "nbconvert_exporter": "python",
   "pygments_lexer": "ipython3",
   "version": "3.6.3"
  },
  "toc": {
   "base_numbering": 1,
   "nav_menu": {},
   "number_sections": true,
   "sideBar": true,
   "skip_h1_title": false,
   "title_cell": "Table of Contents",
   "title_sidebar": "Contents",
   "toc_cell": false,
   "toc_position": {},
   "toc_section_display": true,
   "toc_window_display": false
  }
 },
 "nbformat": 4,
 "nbformat_minor": 2
}

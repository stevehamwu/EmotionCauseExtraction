{
 "cells": [
  {
   "cell_type": "code",
   "execution_count": 81,
   "metadata": {
    "ExecuteTime": {
     "end_time": "2019-03-09T14:52:00.008244Z",
     "start_time": "2019-03-09T14:51:59.996182Z"
    },
    "collapsed": false
   },
   "outputs": [
    {
     "data": {
      "text/plain": [
       "<torch._C.Generator at 0x7ffb940f71d0>"
      ]
     },
     "execution_count": 81,
     "metadata": {},
     "output_type": "execute_result"
    }
   ],
   "source": [
    "# Author: Robert Guthrie\n",
    "from copy import copy\n",
    "import torch\n",
    "import torch.autograd as autograd\n",
    "import torch.nn as nn\n",
    "import torch.optim as optim\n",
    "\n",
    "torch.manual_seed(1)"
   ]
  },
  {
   "cell_type": "code",
   "execution_count": 7,
   "metadata": {
    "ExecuteTime": {
     "end_time": "2019-03-08T15:12:15.282204Z",
     "start_time": "2019-03-08T15:12:15.267743Z"
    },
    "collapsed": false
   },
   "outputs": [],
   "source": [
    "def argmax(vec):\n",
    "    # return the argmax as a python int\n",
    "    _, idx = torch.max(vec, 1)\n",
    "    return idx.item()\n",
    "\n",
    "\n",
    "def prepare_sequence(seq, to_ix):\n",
    "    idxs = [to_ix[w] for w in seq]\n",
    "    return torch.tensor(idxs, dtype=torch.long)\n",
    "\n",
    "\n",
    "# Compute log sum exp in a numerically stable way for the forward algorithm\n",
    "def log_sum_exp(vec):\n",
    "    max_score = vec[0, argmax(vec)]\n",
    "    max_score_broadcast = max_score.view(1, -1).expand(1, vec.size()[1])\n",
    "    return max_score + \\\n",
    "        torch.log(torch.sum(torch.exp(vec - max_score_broadcast)))"
   ]
  },
  {
   "cell_type": "code",
   "execution_count": 8,
   "metadata": {
    "ExecuteTime": {
     "end_time": "2019-03-08T15:12:15.713200Z",
     "start_time": "2019-03-08T15:12:15.493688Z"
    },
    "collapsed": false
   },
   "outputs": [],
   "source": [
    "class BiLSTM_CRF(nn.Module):\n",
    "\n",
    "    def __init__(self, vocab_size, tag_to_ix, embedding_dim, hidden_dim):\n",
    "        super(BiLSTM_CRF, self).__init__()\n",
    "        self.embedding_dim = embedding_dim\n",
    "        self.hidden_dim = hidden_dim\n",
    "        self.vocab_size = vocab_size\n",
    "        self.tag_to_ix = tag_to_ix\n",
    "        self.tagset_size = len(tag_to_ix)\n",
    "\n",
    "        self.word_embeds = nn.Embedding(vocab_size, embedding_dim)\n",
    "        self.lstm = nn.LSTM(embedding_dim, hidden_dim // 2,\n",
    "                            num_layers=1, bidirectional=True)\n",
    "\n",
    "        # Maps the output of the LSTM into tag space.\n",
    "        self.hidden2tag = nn.Linear(hidden_dim, self.tagset_size)\n",
    "\n",
    "        # Matrix of transition parameters.  Entry i,j is the score of\n",
    "        # transitioning *to* i *from* j.\n",
    "        self.transitions = nn.Parameter(\n",
    "            torch.randn(self.tagset_size, self.tagset_size))\n",
    "\n",
    "        # These two statements enforce the constraint that we never transfer\n",
    "        # to the start tag and we never transfer from the stop tag\n",
    "        self.transitions.data[tag_to_ix[START_TAG], :] = -10000\n",
    "        self.transitions.data[:, tag_to_ix[STOP_TAG]] = -10000\n",
    "\n",
    "        self.hidden = self.init_hidden()\n",
    "\n",
    "    def init_hidden(self):\n",
    "        return (torch.randn(2, 1, self.hidden_dim // 2),\n",
    "                torch.randn(2, 1, self.hidden_dim // 2))\n",
    "\n",
    "    def _forward_alg(self, feats):\n",
    "        # Do the forward algorithm to compute the partition function\n",
    "        init_alphas = torch.full((1, self.tagset_size), -10000.)\n",
    "        # START_TAG has all of the score.\n",
    "        init_alphas[0][self.tag_to_ix[START_TAG]] = 0.\n",
    "\n",
    "        # Wrap in a variable so that we will get automatic backprop\n",
    "        forward_var = init_alphas\n",
    "\n",
    "        # Iterate through the sentence\n",
    "        for feat in feats:\n",
    "            alphas_t = []  # The forward tensors at this timestep\n",
    "            for next_tag in range(self.tagset_size):\n",
    "                # broadcast the emission score: it is the same regardless of\n",
    "                # the previous tag\n",
    "                emit_score = feat[next_tag].view(\n",
    "                    1, -1).expand(1, self.tagset_size)\n",
    "                # the ith entry of trans_score is the score of transitioning to\n",
    "                # next_tag from i\n",
    "                trans_score = self.transitions[next_tag].view(1, -1)\n",
    "                # The ith entry of next_tag_var is the value for the\n",
    "                # edge (i -> next_tag) before we do log-sum-exp\n",
    "                next_tag_var = forward_var + trans_score + emit_score\n",
    "                # The forward variable for this tag is log-sum-exp of all the\n",
    "                # scores.\n",
    "                alphas_t.append(log_sum_exp(next_tag_var).view(1))\n",
    "            forward_var = torch.cat(alphas_t).view(1, -1)\n",
    "        terminal_var = forward_var + self.transitions[self.tag_to_ix[STOP_TAG]]\n",
    "        alpha = log_sum_exp(terminal_var)\n",
    "        return alpha\n",
    "\n",
    "    def _get_lstm_features(self, sentence):\n",
    "        self.hidden = self.init_hidden()\n",
    "        embeds = self.word_embeds(sentence).view(len(sentence), 1, -1)\n",
    "        lstm_out, self.hidden = self.lstm(embeds, self.hidden)\n",
    "        lstm_out = lstm_out.view(len(sentence), self.hidden_dim)\n",
    "        lstm_feats = self.hidden2tag(lstm_out)\n",
    "        return lstm_feats\n",
    "\n",
    "    def _score_sentence(self, feats, tags):\n",
    "        # Gives the score of a provided tag sequence\n",
    "        score = torch.zeros(1)\n",
    "        tags = torch.cat([torch.tensor([self.tag_to_ix[START_TAG]], dtype=torch.long), tags])\n",
    "        for i, feat in enumerate(feats):\n",
    "            score = score + \\\n",
    "                self.transitions[tags[i + 1], tags[i]] + feat[tags[i + 1]]\n",
    "        score = score + self.transitions[self.tag_to_ix[STOP_TAG], tags[-1]]\n",
    "        return score\n",
    "\n",
    "    def _viterbi_decode(self, feats):\n",
    "        backpointers = []\n",
    "\n",
    "        # Initialize the viterbi variables in log space\n",
    "        init_vvars = torch.full((1, self.tagset_size), -10000.)\n",
    "        init_vvars[0][self.tag_to_ix[START_TAG]] = 0\n",
    "\n",
    "        # forward_var at step i holds the viterbi variables for step i-1\n",
    "        forward_var = init_vvars\n",
    "        for feat in feats:\n",
    "            bptrs_t = []  # holds the backpointers for this step\n",
    "            viterbivars_t = []  # holds the viterbi variables for this step\n",
    "\n",
    "            for next_tag in range(self.tagset_size):\n",
    "                # next_tag_var[i] holds the viterbi variable for tag i at the\n",
    "                # previous step, plus the score of transitioning\n",
    "                # from tag i to next_tag.\n",
    "                # We don't include the emission scores here because the max\n",
    "                # does not depend on them (we add them in below)\n",
    "                next_tag_var = forward_var + self.transitions[next_tag]\n",
    "                best_tag_id = argmax(next_tag_var)\n",
    "                bptrs_t.append(best_tag_id)\n",
    "                viterbivars_t.append(next_tag_var[0][best_tag_id].view(1))\n",
    "            # Now add in the emission scores, and assign forward_var to the set\n",
    "            # of viterbi variables we just computed\n",
    "            forward_var = (torch.cat(viterbivars_t) + feat).view(1, -1)\n",
    "            backpointers.append(bptrs_t)\n",
    "\n",
    "        # Transition to STOP_TAG\n",
    "        terminal_var = forward_var + self.transitions[self.tag_to_ix[STOP_TAG]]\n",
    "        best_tag_id = argmax(terminal_var)\n",
    "        path_score = terminal_var[0][best_tag_id]\n",
    "\n",
    "        # Follow the back pointers to decode the best path.\n",
    "        best_path = [best_tag_id]\n",
    "        for bptrs_t in reversed(backpointers):\n",
    "            best_tag_id = bptrs_t[best_tag_id]\n",
    "            best_path.append(best_tag_id)\n",
    "        # Pop off the start tag (we dont want to return that to the caller)\n",
    "        start = best_path.pop()\n",
    "        assert start == self.tag_to_ix[START_TAG]  # Sanity check\n",
    "        best_path.reverse()\n",
    "        return path_score, best_path\n",
    "\n",
    "    def neg_log_likelihood(self, sentence, tags):\n",
    "        feats = self._get_lstm_features(sentence)\n",
    "        forward_score = self._forward_alg(feats)\n",
    "        gold_score = self._score_sentence(feats, tags)\n",
    "        return forward_score - gold_score\n",
    "\n",
    "    def forward(self, sentence):  # dont confuse this with _forward_alg above.\n",
    "        # Get the emission scores from the BiLSTM\n",
    "        lstm_feats = self._get_lstm_features(sentence)\n",
    "\n",
    "        # Find the best path, given the features.\n",
    "        score, tag_seq = self._viterbi_decode(lstm_feats)\n",
    "        return score, tag_seq"
   ]
  },
  {
   "cell_type": "code",
   "execution_count": 9,
   "metadata": {
    "ExecuteTime": {
     "end_time": "2019-03-08T15:12:39.977071Z",
     "start_time": "2019-03-08T15:12:25.565802Z"
    },
    "collapsed": false
   },
   "outputs": [
    {
     "name": "stdout",
     "output_type": "stream",
     "text": [
      "(tensor(2.6907), [1, 2, 2, 2, 2, 2, 2, 2, 2, 2, 1])\n",
      "(tensor(20.4906), [0, 1, 1, 1, 2, 2, 2, 0, 1, 2, 2])\n"
     ]
    }
   ],
   "source": [
    "START_TAG = \"<START>\"\n",
    "STOP_TAG = \"<STOP>\"\n",
    "EMBEDDING_DIM = 5\n",
    "HIDDEN_DIM = 4\n",
    "\n",
    "# Make up some training data\n",
    "training_data = [(\n",
    "    \"the wall street journal reported today that apple corporation made money\".split(),\n",
    "    \"B I I I O O O B I O O\".split()\n",
    "), (\n",
    "    \"georgia tech is a university in georgia\".split(),\n",
    "    \"B I O O O O B\".split()\n",
    ")]\n",
    "\n",
    "word_to_ix = {}\n",
    "for sentence, tags in training_data:\n",
    "    for word in sentence:\n",
    "        if word not in word_to_ix:\n",
    "            word_to_ix[word] = len(word_to_ix)\n",
    "\n",
    "tag_to_ix = {\"B\": 0, \"I\": 1, \"O\": 2, START_TAG: 3, STOP_TAG: 4}\n",
    "\n",
    "model = BiLSTM_CRF(len(word_to_ix), tag_to_ix, EMBEDDING_DIM, HIDDEN_DIM)\n",
    "optimizer = optim.SGD(model.parameters(), lr=0.01, weight_decay=1e-4)\n",
    "\n",
    "# Check predictions before training\n",
    "with torch.no_grad():\n",
    "    precheck_sent = prepare_sequence(training_data[0][0], word_to_ix)\n",
    "    precheck_tags = torch.tensor([tag_to_ix[t] for t in training_data[0][1]], dtype=torch.long)\n",
    "    print(model(precheck_sent))\n",
    "\n",
    "# Make sure prepare_sequence from earlier in the LSTM section is loaded\n",
    "for epoch in range(\n",
    "        300):  # again, normally you would NOT do 300 epochs, it is toy data\n",
    "    for sentence, tags in training_data:\n",
    "        # Step 1. Remember that Pytorch accumulates gradients.\n",
    "        # We need to clear them out before each instance\n",
    "        model.zero_grad()\n",
    "\n",
    "        # Step 2. Get our inputs ready for the network, that is,\n",
    "        # turn them into Tensors of word indices.\n",
    "        sentence_in = prepare_sequence(sentence, word_to_ix)\n",
    "        targets = torch.tensor([tag_to_ix[t] for t in tags], dtype=torch.long)\n",
    "\n",
    "        # Step 3. Run our forward pass.\n",
    "        loss = model.neg_log_likelihood(sentence_in, targets)\n",
    "\n",
    "        # Step 4. Compute the loss, gradients, and update the parameters by\n",
    "        # calling optimizer.step()\n",
    "        loss.backward()\n",
    "        optimizer.step()\n",
    "\n",
    "# Check predictions after training\n",
    "with torch.no_grad():\n",
    "    precheck_sent = prepare_sequence(training_data[0][0], word_to_ix)\n",
    "    print(model(precheck_sent))\n",
    "# We got it!"
   ]
  },
  {
   "cell_type": "markdown",
   "metadata": {
    "ExecuteTime": {
     "end_time": "2019-03-09T14:24:56.132911Z",
     "start_time": "2019-03-09T14:24:56.125670Z"
    }
   },
   "source": [
    "# model"
   ]
  },
  {
   "cell_type": "code",
   "execution_count": 67,
   "metadata": {
    "ExecuteTime": {
     "end_time": "2019-03-09T14:44:12.070943Z",
     "start_time": "2019-03-09T14:44:12.062877Z"
    },
    "collapsed": false
   },
   "outputs": [],
   "source": [
    "import sys\n",
    "sys.path.append('..')\n",
    "from utils.dataset.ec import ECDataset\n",
    "from utils.dataloader.ec import ECDataLoader\n",
    "from models.han.word_model import WordAttention\n",
    "from models.han.sentence_model import SentenceWithPosition\n",
    "device = torch.device('cuda: 0')"
   ]
  },
  {
   "cell_type": "code",
   "execution_count": 61,
   "metadata": {
    "ExecuteTime": {
     "end_time": "2019-03-09T14:41:16.434400Z",
     "start_time": "2019-03-09T14:41:16.424057Z"
    },
    "collapsed": true
   },
   "outputs": [],
   "source": [
    "batch_size = 16\n",
    "vocab_size = 23071\n",
    "num_classes = 2\n",
    "sequence_length = 41\n",
    "embedding_dim = 300\n",
    "dropout = 0.5\n",
    "word_rnn_size = 300\n",
    "word_rnn_layer = 2\n",
    "sentence_rnn_size = 300\n",
    "sentence_rnn_layer = 2\n",
    "pos_size = 103\n",
    "pos_embedding_dim = 300\n",
    "pos_embedding_file= '/data/wujipeng/ec/data/embedding/pos_embedding.pkl'"
   ]
  },
  {
   "cell_type": "code",
   "execution_count": 56,
   "metadata": {
    "ExecuteTime": {
     "end_time": "2019-03-09T14:32:04.291693Z",
     "start_time": "2019-03-09T14:32:04.239940Z"
    },
    "collapsed": true
   },
   "outputs": [],
   "source": [
    "train_dataset = ECDataset(data_root='/data/wujipeng/ec/data/test/', vocab_root='/data/wujipeng/ec/data/raw_data/', train=True)\n",
    "test_dataset = ECDataset(data_root='/data/wujipeng/ec/data/test/', vocab_root='/data/wujipeng/ec/data/raw_data/', train=False)"
   ]
  },
  {
   "cell_type": "code",
   "execution_count": 57,
   "metadata": {
    "ExecuteTime": {
     "end_time": "2019-03-09T14:32:04.575303Z",
     "start_time": "2019-03-09T14:32:04.423770Z"
    },
    "collapsed": false
   },
   "outputs": [],
   "source": [
    "train_loader = ECDataLoader(dataset=train_dataset, clause_length=sequence_length, batch_size=16, shuffle=True, sort=True, collate_fn=train_dataset.collate_fn)"
   ]
  },
  {
   "cell_type": "code",
   "execution_count": 132,
   "metadata": {
    "ExecuteTime": {
     "end_time": "2019-03-09T22:01:32.173103Z",
     "start_time": "2019-03-09T22:01:32.157218Z"
    },
    "collapsed": false
   },
   "outputs": [],
   "source": [
    "for batch in train_loader:\n",
    "    clauses, keywords, poses = ECDataset.batch2input(batch)\n",
    "    labels = ECDataset.batch2target(batch)\n",
    "    clauses = torch.from_numpy(clauses).to(device)\n",
    "    keywords = torch.from_numpy(keywords).to(device)\n",
    "    poses = torch.from_numpy(poses).to(device)\n",
    "    labels = torch.from_numpy(labels).to(device)\n",
    "    targets = labels\n",
    "    break"
   ]
  },
  {
   "cell_type": "code",
   "execution_count": 62,
   "metadata": {
    "ExecuteTime": {
     "end_time": "2019-03-09T14:41:42.626824Z",
     "start_time": "2019-03-09T14:41:42.584294Z"
    },
    "collapsed": true
   },
   "outputs": [],
   "source": [
    "class HierachicalAttentionModelCRF:\n",
    "    def __init__(self,\n",
    "                 vocab_size,\n",
    "                 num_classes,\n",
    "                 embedding_dim,\n",
    "                 hidden_size,\n",
    "                 word_model,\n",
    "                 sentence_model,\n",
    "                 dropout=0.5,\n",
    "                 fix_embed=True,\n",
    "                 name='HAN'):\n",
    "        super(HierachicalAttentionModelCRF, self).__init__()\n",
    "\n",
    "        self.num_classes = num_classes\n",
    "        self.fix_embed = fix_embed\n",
    "        self.name = name\n",
    "\n",
    "        self.Embedding = nn.Embedding(vocab_size, embedding_dim, padding_idx=0)\n",
    "        self.word_rnn = WordAttention(\n",
    "            vocab_size=vocab_size,\n",
    "            embedding_dim=embedding_dim,\n",
    "            batch_size=batch_size,\n",
    "            sequence_length=sequence_length,\n",
    "            rnn_size=word_rnn_size,\n",
    "            rnn_layers=word_rnn_layer,\n",
    "            dropout=dropout)\n",
    "        self.sentence_rnn = SentenceAttention(\n",
    "            batch_size=batch_size,\n",
    "            word_rnn_size = word_rnn_size,\n",
    "            rnn_size = sentence_rnn_size,\n",
    "            rnn_layers=sentence_rnn_layer,\n",
    "            pos_size=pos_size,\n",
    "            pos_embedding_dim=pos_embedding_dim,\n",
    "            pos_embedding_file=pos_embedding_file\n",
    "        )\n",
    "        self.fc = nn.Linear(\n",
    "            2 * self.word_rnn_size + 2 * self.sentence_rnn_size, num_classes)\n",
    "        self.dropout = nn.Dropout(dropout)\n",
    "        # self.fc = nn.Sequential(\n",
    "        #     nn.Linear(2 * self.sentence_rnn_size, linear_hidden_dim),\n",
    "        #     nn.ReLU(inplace=True),\n",
    "        #     nn.Dropout(dropout),\n",
    "        #     nn.Linear(linear_hidden_dim, num_classes)\n",
    "        # )\n",
    "\n",
    "    def init_weights(self, embeddings):\n",
    "        if embeddings is not None:\n",
    "            self.Embedding = self.Embedding.from_pretrained(embeddings)\n",
    "\n",
    "    def forward(self, clauses, keywords, poses):\n",
    "        inputs = self.linear(self.Embedding(clauses))\n",
    "        queries = self.linear(self.Embedding(keywords))\n",
    "        documents, word_attn = self.word_rnn(inputs, queries)\n",
    "        outputs, sentence_attn = self.sentence_rnn(documents, poses)\n",
    "        # outputs = self.fc(outputs)\n",
    "        s_c = torch.cat((documents, outputs), dim=-1)\n",
    "        outputs = self.fc(self.dropout(s_c))\n",
    "        return outputs, word_attn, sentence_attn"
   ]
  },
  {
   "cell_type": "markdown",
   "metadata": {},
   "source": [
    "## init"
   ]
  },
  {
   "cell_type": "code",
   "execution_count": 133,
   "metadata": {
    "ExecuteTime": {
     "end_time": "2019-03-09T22:01:34.799460Z",
     "start_time": "2019-03-09T22:01:34.787408Z"
    },
    "collapsed": true
   },
   "outputs": [],
   "source": [
    "def argmax(vec):\n",
    "    # return the argmax as a python int\n",
    "    _, idx = torch.max(vec, 1)\n",
    "    return idx.item()\n",
    "\n",
    "def prepare_sequence(seq, to_ix):\n",
    "    idxs = [to_ix[w] for w in seq]\n",
    "    return torch.tensor(idxs, dtype=torch.long)\n",
    "\n",
    "\n",
    "# Compute log sum exp in a numerically stable way for the forward algorithm\n",
    "def log_sum_exp(vec):\n",
    "    max_score = vec[0, argmax(vec)]\n",
    "    max_score_broadcast = max_score.view(1, -1).expand(1, vec.size()[1])\n",
    "    return max_score + \\\n",
    "        torch.log(torch.sum(torch.exp(vec - max_score_broadcast)))"
   ]
  },
  {
   "cell_type": "code",
   "execution_count": 134,
   "metadata": {
    "ExecuteTime": {
     "end_time": "2019-03-09T22:01:35.010321Z",
     "start_time": "2019-03-09T22:01:35.004977Z"
    },
    "collapsed": true
   },
   "outputs": [],
   "source": [
    "START_TAG = \"<START>\"\n",
    "STOP_TAG = \"<STOP>\"\n",
    "tag_to_ix = {0: 0, 1: 1, START_TAG: 2, STOP_TAG: 3}\n",
    "tagsize = len(tag_to_ix)"
   ]
  },
  {
   "cell_type": "code",
   "execution_count": 135,
   "metadata": {
    "ExecuteTime": {
     "end_time": "2019-03-09T22:01:36.214252Z",
     "start_time": "2019-03-09T22:01:36.042579Z"
    },
    "collapsed": false
   },
   "outputs": [],
   "source": [
    "Embedding = nn.Embedding(vocab_size, embedding_dim, padding_idx=0).to(device)\n",
    "word_rnn = WordAttention(\n",
    "    vocab_size=vocab_size,\n",
    "    embedding_dim=embedding_dim,\n",
    "    batch_size=batch_size,\n",
    "    sequence_length=sequence_length,\n",
    "    rnn_size=word_rnn_size,\n",
    "    rnn_layers=word_rnn_layer,\n",
    "    dropout=dropout).to(device)\n",
    "sentence_rnn = SentenceWithPosition(\n",
    "    batch_size=batch_size,\n",
    "    word_rnn_size = word_rnn_size,\n",
    "    rnn_size = sentence_rnn_size,\n",
    "    rnn_layers=sentence_rnn_layer,\n",
    "    pos_size=pos_size,\n",
    "    pos_embedding_dim=pos_embedding_dim,\n",
    "    pos_embedding_file=pos_embedding_file\n",
    ").to(device)\n",
    "fc = nn.Linear(2 * word_rnn_size + 2 * sentence_rnn_size, num_classes+2).to(device)\n",
    "drop = nn.Dropout(dropout).to(device)"
   ]
  },
  {
   "cell_type": "code",
   "execution_count": 136,
   "metadata": {
    "ExecuteTime": {
     "end_time": "2019-03-09T22:01:36.851493Z",
     "start_time": "2019-03-09T22:01:36.844069Z"
    },
    "collapsed": false
   },
   "outputs": [],
   "source": [
    "transitions = nn.Parameter(torch.randn(tagset_size, tagset_size)).to(device)\n",
    "transitions.data[tag_to_ix[START_TAG], :] = -10000\n",
    "transitions.data[:, tag_to_ix[STOP_TAG]] = -10000"
   ]
  },
  {
   "cell_type": "markdown",
   "metadata": {},
   "source": [
    "## forward"
   ]
  },
  {
   "cell_type": "code",
   "execution_count": 137,
   "metadata": {
    "ExecuteTime": {
     "end_time": "2019-03-09T22:01:39.465119Z",
     "start_time": "2019-03-09T22:01:39.438711Z"
    },
    "collapsed": false
   },
   "outputs": [],
   "source": [
    "inputs = Embedding(clauses)\n",
    "queries = Embedding(keywords)\n",
    "documents, word_attn = word_rnn(inputs, queries)\n",
    "outputs, sentence_attn = sentence_rnn(documents, poses)"
   ]
  },
  {
   "cell_type": "code",
   "execution_count": 138,
   "metadata": {
    "ExecuteTime": {
     "end_time": "2019-03-09T22:01:40.313563Z",
     "start_time": "2019-03-09T22:01:40.306858Z"
    },
    "collapsed": false
   },
   "outputs": [],
   "source": [
    "s_c = torch.cat((documents, outputs), dim=-1)\n",
    "outputs = fc(drop(s_c))"
   ]
  },
  {
   "cell_type": "code",
   "execution_count": 139,
   "metadata": {
    "ExecuteTime": {
     "end_time": "2019-03-09T22:01:41.604631Z",
     "start_time": "2019-03-09T22:01:41.595038Z"
    },
    "collapsed": false
   },
   "outputs": [
    {
     "data": {
      "text/plain": [
       "torch.Size([16, 12, 4])"
      ]
     },
     "execution_count": 139,
     "metadata": {},
     "output_type": "execute_result"
    }
   ],
   "source": [
    "outputs.size()"
   ]
  },
  {
   "cell_type": "code",
   "execution_count": 141,
   "metadata": {
    "ExecuteTime": {
     "end_time": "2019-03-09T22:01:56.505063Z",
     "start_time": "2019-03-09T22:01:56.498534Z"
    },
    "collapsed": false
   },
   "outputs": [
    {
     "data": {
      "text/plain": [
       "torch.Size([16, 12, 4])"
      ]
     },
     "execution_count": 141,
     "metadata": {},
     "output_type": "execute_result"
    }
   ],
   "source": [
    "lstm_feats = copy(outputs)\n",
    "lstm_feats.size()"
   ]
  },
  {
   "cell_type": "markdown",
   "metadata": {},
   "source": [
    "### _forward_alg"
   ]
  },
  {
   "cell_type": "code",
   "execution_count": 142,
   "metadata": {
    "ExecuteTime": {
     "end_time": "2019-03-09T22:02:24.642533Z",
     "start_time": "2019-03-09T22:02:24.598304Z"
    },
    "collapsed": false
   },
   "outputs": [],
   "source": [
    "init_alphas = torch.full((1, tagset_size), -10000.).to(device)\n",
    "# START_TAG has all of the score.\n",
    "init_alphas[0][tag_to_ix[START_TAG]] = 0.\n",
    "\n",
    "# Wrap in a variable so that we will get automatic backprop\n",
    "forward_var = init_alphas\n",
    "\n",
    "# Iterate through the sentence\n",
    "for feat in lstm_feats:\n",
    "    alphas_t = []  # The forward tensors at this timestep\n",
    "    for next_tag in range(tagset_size):\n",
    "        # broadcast the emission score: it is the same regardless of\n",
    "        # the previous tag\n",
    "        emit_score = feat[next_tag].view(1, -1).expand(1, tagset_size)\n",
    "        # the ith entry of trans_score is the score of transitioning to\n",
    "        # next_tag from i\n",
    "        trans_score = transitions[next_tag].view(1, -1)\n",
    "        # The ith entry of next_tag_var is the value for the\n",
    "        # edge (i -> next_tag) before we do log-sum-exp\n",
    "        next_tag_var = forward_var + trans_score + emit_score\n",
    "        # The forward variable for this tag is log-sum-exp of all the\n",
    "        # scores.\n",
    "        alphas_t.append(log_sum_exp(next_tag_var).view(1))\n",
    "    forward_var = torch.cat(alphas_t).view(1, -1)\n",
    "terminal_var = forward_var + transitions[tag_to_ix[STOP_TAG]]\n",
    "alpha = log_sum_exp(terminal_var)"
   ]
  },
  {
   "cell_type": "code",
   "execution_count": 143,
   "metadata": {
    "ExecuteTime": {
     "end_time": "2019-03-09T22:02:26.884457Z",
     "start_time": "2019-03-09T22:02:26.881299Z"
    },
    "collapsed": true
   },
   "outputs": [],
   "source": [
    "forward_score = alpha"
   ]
  },
  {
   "cell_type": "code",
   "execution_count": 175,
   "metadata": {
    "ExecuteTime": {
     "end_time": "2019-03-10T09:32:17.704894Z",
     "start_time": "2019-03-10T09:32:17.689832Z"
    },
    "collapsed": false
   },
   "outputs": [
    {
     "data": {
      "text/plain": [
       "tensor([[-10000., -10000.,      0., -10000.]], device='cuda:0')"
      ]
     },
     "execution_count": 175,
     "metadata": {},
     "output_type": "execute_result"
    }
   ],
   "source": [
    "init_alphas"
   ]
  },
  {
   "cell_type": "markdown",
   "metadata": {
    "ExecuteTime": {
     "end_time": "2019-03-09T15:01:38.072124Z",
     "start_time": "2019-03-09T15:01:38.064316Z"
    }
   },
   "source": [
    "### _score_sentence"
   ]
  },
  {
   "cell_type": "code",
   "execution_count": 147,
   "metadata": {
    "ExecuteTime": {
     "end_time": "2019-03-09T22:02:50.561287Z",
     "start_time": "2019-03-09T22:02:50.555930Z"
    },
    "collapsed": false
   },
   "outputs": [
    {
     "data": {
      "text/plain": [
       "torch.Size([16, 12, 4])"
      ]
     },
     "execution_count": 147,
     "metadata": {},
     "output_type": "execute_result"
    }
   ],
   "source": [
    "lstm_feats.size()"
   ]
  },
  {
   "cell_type": "code",
   "execution_count": 171,
   "metadata": {
    "ExecuteTime": {
     "end_time": "2019-03-09T22:08:23.746805Z",
     "start_time": "2019-03-09T22:08:23.623169Z"
    },
    "collapsed": false
   },
   "outputs": [],
   "source": [
    "tags = copy(targets)\n",
    "score = torch.zeros(1).to(device)\n",
    "tags = torch.cat((torch.full((tags.size(0), 1), tag_to_ix[START_TAG], dtype=torch.long).to(device), tags), dim=-1)\n",
    "for feats, tag in zip(lstm_feats, tags):\n",
    "    score = torch.zeros(1).to(device)\n",
    "    tag = torch.cat([torch.LongTensor([tag_to_ix[START_TAG]]).to(device), tag])\n",
    "    for i, feat in enumerate(feats):\n",
    "        score = score + transitions[tags[i + 1], tags[i]] + feat[tags[i + 1]]\n",
    "score = score + transitions[tag_to_ix[STOP_TAG], tags[-1]]"
   ]
  },
  {
   "cell_type": "code",
   "execution_count": 172,
   "metadata": {
    "ExecuteTime": {
     "end_time": "2019-03-09T22:08:27.772519Z",
     "start_time": "2019-03-09T22:08:27.765375Z"
    },
    "collapsed": false
   },
   "outputs": [
    {
     "data": {
      "text/plain": [
       "tensor([2, 2, 0, 0, 1, 0, 0, 0, 0, 0, 0, 0, 0, 0], device='cuda:0')"
      ]
     },
     "execution_count": 172,
     "metadata": {},
     "output_type": "execute_result"
    }
   ],
   "source": [
    "tag"
   ]
  },
  {
   "cell_type": "code",
   "execution_count": 124,
   "metadata": {
    "ExecuteTime": {
     "end_time": "2019-03-09T15:06:08.839525Z",
     "start_time": "2019-03-09T15:06:08.828594Z"
    },
    "collapsed": false
   },
   "outputs": [
    {
     "data": {
      "text/plain": [
       "(tensor(122.4800, device='cuda:0', grad_fn=<AddBackward0>),\n",
       " tensor([-15.6452], device='cuda:0', grad_fn=<AddBackward0>),\n",
       " tensor([138.1252], device='cuda:0', grad_fn=<SubBackward0>))"
      ]
     },
     "execution_count": 124,
     "metadata": {},
     "output_type": "execute_result"
    }
   ],
   "source": [
    "score = forward_score - gold_score\n",
    "forward_score, gold_score, score"
   ]
  },
  {
   "cell_type": "markdown",
   "metadata": {},
   "source": [
    "### _viterbi_decode"
   ]
  },
  {
   "cell_type": "code",
   "execution_count": 101,
   "metadata": {
    "ExecuteTime": {
     "end_time": "2019-03-09T14:57:39.773674Z",
     "start_time": "2019-03-09T14:57:39.657175Z"
    },
    "collapsed": false
   },
   "outputs": [],
   "source": [
    "backpointers = []\n",
    "\n",
    "# Initialize the viterbi variables in log space\n",
    "init_vvars = torch.full((1, tagset_size), -10000.).to(device)\n",
    "init_vvars[0][tag_to_ix[START_TAG]] = 0\n",
    "\n",
    "# forward_var at step i holds the viterbi variables for step i-1\n",
    "forward_var = init_vvars\n",
    "for feat in lstm_feats:\n",
    "    bptrs_t = []  # holds the backpointers for this step\n",
    "    viterbivars_t = []  # holds the viterbi variables for this step\n",
    "\n",
    "    for next_tag in range(tagset_size):\n",
    "        # next_tag_var[i] holds the viterbi variable for tag i at the\n",
    "        # previous step, plus the score of transitioning\n",
    "        # from tag i to next_tag.\n",
    "        # We don't include the emission scores here because the max\n",
    "        # does not depend on them (we add them in below)\n",
    "        next_tag_var = forward_var + transitions[next_tag]\n",
    "        best_tag_id = argmax(next_tag_var)\n",
    "        bptrs_t.append(best_tag_id)\n",
    "        viterbivars_t.append(next_tag_var[0][best_tag_id].view(1))\n",
    "    # Now add in the emission scores, and assign forward_var to the set\n",
    "    # of viterbi variables we just computed\n",
    "    forward_var = (torch.cat(viterbivars_t) + feat).view(1, -1)\n",
    "    backpointers.append(bptrs_t)\n",
    "\n",
    "# Transition to STOP_TAG\n",
    "terminal_var = forward_var + transitions[tag_to_ix[STOP_TAG]]\n",
    "best_tag_id = argmax(terminal_var)\n",
    "path_score = terminal_var[0][best_tag_id]\n",
    "\n",
    "# Follow the back pointers to decode the best path.\n",
    "best_path = [best_tag_id]\n",
    "for bptrs_t in reversed(backpointers):\n",
    "    best_tag_id = bptrs_t[best_tag_id]\n",
    "    best_path.append(best_tag_id)\n",
    "# Pop off the start tag (we dont want to return that to the caller)\n",
    "start = best_path.pop()\n",
    "assert start == tag_to_ix[START_TAG]  # Sanity check\n",
    "best_path.reverse()"
   ]
  },
  {
   "cell_type": "code",
   "execution_count": 104,
   "metadata": {
    "ExecuteTime": {
     "end_time": "2019-03-09T14:58:10.844685Z",
     "start_time": "2019-03-09T14:58:10.838394Z"
    },
    "collapsed": false,
    "scrolled": true
   },
   "outputs": [
    {
     "data": {
      "text/plain": [
       "(tensor(-4.1966, device='cuda:0'), 160)"
      ]
     },
     "execution_count": 104,
     "metadata": {},
     "output_type": "execute_result"
    }
   ],
   "source": [
    "path_score.data, len(best_path)"
   ]
  },
  {
   "cell_type": "code",
   "execution_count": 127,
   "metadata": {
    "ExecuteTime": {
     "end_time": "2019-03-09T15:23:41.151051Z",
     "start_time": "2019-03-09T15:23:41.140346Z"
    },
    "collapsed": false
   },
   "outputs": [
    {
     "data": {
      "text/plain": [
       "[1,\n",
       " 0,\n",
       " 1,\n",
       " 0,\n",
       " 1,\n",
       " 0,\n",
       " 1,\n",
       " 0,\n",
       " 1,\n",
       " 0,\n",
       " 1,\n",
       " 0,\n",
       " 0,\n",
       " 1,\n",
       " 1,\n",
       " 0,\n",
       " 1,\n",
       " 0,\n",
       " 1,\n",
       " 0,\n",
       " 1,\n",
       " 0,\n",
       " 1,\n",
       " 1,\n",
       " 0,\n",
       " 1,\n",
       " 0,\n",
       " 0,\n",
       " 1,\n",
       " 1,\n",
       " 0,\n",
       " 1,\n",
       " 0,\n",
       " 1,\n",
       " 0,\n",
       " 1,\n",
       " 1,\n",
       " 0,\n",
       " 1,\n",
       " 1,\n",
       " 0,\n",
       " 0,\n",
       " 1,\n",
       " 1,\n",
       " 0,\n",
       " 0,\n",
       " 1,\n",
       " 0,\n",
       " 1,\n",
       " 0,\n",
       " 1,\n",
       " 0,\n",
       " 1,\n",
       " 0,\n",
       " 1,\n",
       " 0,\n",
       " 1,\n",
       " 0,\n",
       " 1,\n",
       " 0,\n",
       " 1,\n",
       " 0,\n",
       " 1,\n",
       " 0,\n",
       " 0,\n",
       " 0,\n",
       " 1,\n",
       " 0,\n",
       " 1,\n",
       " 0,\n",
       " 1,\n",
       " 0,\n",
       " 1,\n",
       " 0,\n",
       " 1,\n",
       " 0,\n",
       " 0,\n",
       " 1,\n",
       " 0,\n",
       " 1,\n",
       " 0,\n",
       " 1,\n",
       " 0,\n",
       " 1,\n",
       " 0,\n",
       " 1,\n",
       " 0,\n",
       " 1,\n",
       " 0,\n",
       " 1,\n",
       " 1,\n",
       " 0,\n",
       " 1,\n",
       " 0,\n",
       " 0,\n",
       " 1,\n",
       " 0,\n",
       " 1,\n",
       " 0,\n",
       " 0,\n",
       " 1,\n",
       " 0,\n",
       " 0,\n",
       " 1,\n",
       " 0,\n",
       " 0,\n",
       " 1,\n",
       " 0,\n",
       " 0,\n",
       " 1,\n",
       " 1,\n",
       " 0,\n",
       " 1,\n",
       " 1,\n",
       " 0,\n",
       " 1,\n",
       " 0,\n",
       " 1,\n",
       " 0,\n",
       " 0,\n",
       " 1,\n",
       " 1,\n",
       " 0,\n",
       " 0,\n",
       " 1,\n",
       " 0,\n",
       " 0,\n",
       " 1,\n",
       " 0,\n",
       " 1,\n",
       " 0,\n",
       " 1,\n",
       " 0,\n",
       " 1,\n",
       " 1,\n",
       " 0,\n",
       " 1,\n",
       " 0,\n",
       " 1,\n",
       " 0,\n",
       " 1,\n",
       " 1,\n",
       " 0,\n",
       " 0,\n",
       " 1,\n",
       " 0,\n",
       " 1,\n",
       " 1,\n",
       " 0,\n",
       " 1,\n",
       " 0,\n",
       " 0,\n",
       " 1,\n",
       " 0,\n",
       " 1,\n",
       " 0,\n",
       " 0,\n",
       " 1,\n",
       " 0,\n",
       " 1]"
      ]
     },
     "execution_count": 127,
     "metadata": {},
     "output_type": "execute_result"
    }
   ],
   "source": [
    "best_path"
   ]
  },
  {
   "cell_type": "code",
   "execution_count": null,
   "metadata": {
    "collapsed": true
   },
   "outputs": [],
   "source": []
  }
 ],
 "metadata": {
  "kernelspec": {
   "display_name": "Python [conda env:anaconda3]",
   "language": "python",
   "name": "conda-env-anaconda3-py"
  },
  "language_info": {
   "codemirror_mode": {
    "name": "ipython",
    "version": 3
   },
   "file_extension": ".py",
   "mimetype": "text/x-python",
   "name": "python",
   "nbconvert_exporter": "python",
   "pygments_lexer": "ipython3",
   "version": "3.6.3"
  },
  "toc": {
   "base_numbering": 1,
   "nav_menu": {},
   "number_sections": true,
   "sideBar": true,
   "skip_h1_title": false,
   "title_cell": "Table of Contents",
   "title_sidebar": "Contents",
   "toc_cell": false,
   "toc_position": {
    "height": "calc(100% - 180px)",
    "left": "10px",
    "top": "150px",
    "width": "384px"
   },
   "toc_section_display": true,
   "toc_window_display": true
  }
 },
 "nbformat": 4,
 "nbformat_minor": 2
}
